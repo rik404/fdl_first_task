{
 "cells": [
  {
   "cell_type": "code",
   "execution_count": 5,
   "metadata": {},
   "outputs": [],
   "source": [
    "import xmlschema\n",
    "\n",
    "# Path to XML data file download from https://drive.google.com/drive/folders/1jcqJlnkibjPmeK0rBDskrKCRobh_6LOK?usp=drive_link\n",
    "xml_file = 'awards-20230530.xml'\n",
    "xsd_file = 'awards-20230530.xsd'\n",
    "\n",
    "# Load XML schema with loose validation\n",
    "schema = xmlschema.XMLSchema(xsd_file, validation='lax')\n",
    "\n",
    "# Load XML data using XMLResource\n",
    "xml_data = xmlschema.XMLResource(xml_file)"
   ]
  },
  {
   "cell_type": "code",
   "execution_count": null,
   "metadata": {},
   "outputs": [],
   "source": [
    "# Check data for schema errors\n",
    "if not schema.is_valid(xml_data):\n",
    "    print(\"Validation Error:\")\n",
    "    for error in schema.iter_errors(xml_data):\n",
    "        print(error)"
   ]
  },
  {
   "cell_type": "code",
   "execution_count": 6,
   "metadata": {},
   "outputs": [
    {
     "data": {
      "text/plain": [
       "'https://www.grantforward.com/award/detail?award_id=3049'"
      ]
     },
     "execution_count": 6,
     "metadata": {},
     "output_type": "execute_result"
    }
   ],
   "source": [
    "# Sample element access\n",
    "data = xml_data.root\n",
    "data[2000].findtext('.//url')"
   ]
  },
  {
   "cell_type": "code",
   "execution_count": 7,
   "metadata": {},
   "outputs": [
    {
     "data": {
      "text/plain": [
       "{'abstract',\n",
       " 'all_categories',\n",
       " 'all_types',\n",
       " 'amount_awarded',\n",
       " 'award_number',\n",
       " 'award_title',\n",
       " 'award_url',\n",
       " 'cfda',\n",
       " 'currency',\n",
       " 'element_code',\n",
       " 'end_date',\n",
       " 'ext_award_id',\n",
       " 'fiscal_year',\n",
       " 'modified_date',\n",
       " 'principal_investigators',\n",
       " 'program_manager',\n",
       " 'program_title',\n",
       " 'recipients',\n",
       " 'source_url',\n",
       " 'sponsors',\n",
       " 'start_date',\n",
       " 'url'}"
      ]
     },
     "execution_count": 7,
     "metadata": {},
     "output_type": "execute_result"
    }
   ],
   "source": [
    "headers = set()\n",
    "s = [\"element_code\",\"modified_date\",\"ext_award_id\",\"end_date\",\"program_manager\",\"abstract\",\"fiscal_year\",\"amount_awarded\",\"currency\",\"award_number\",\"principal_investigators\",\"recipients\",\"award_url\",\"program_title\",\"source_url\",\"start_date\",\"cfda\",\"award_title\",\"all_types\",\"all_categories\",\"sponsors\",\"url\"]\n",
    "for d in s:\n",
    "    headers.add(d)\n",
    "headers\n",
    "        \n"
   ]
  },
  {
   "cell_type": "code",
   "execution_count": 32,
   "metadata": {},
   "outputs": [],
   "source": [
    "import csv\n",
    "\n",
    "csv_file = 'converted2.csv'\n",
    "\n",
    "with open(csv_file, 'w', newline='', encoding='utf-8') as f:\n",
    "    csv_writer = csv.DictWriter(f, fieldnames=headers)\n",
    "    csv_writer.writeheader()\n",
    "\n",
    "    for d in data:\n",
    "        row = {header: None for header in headers}\n",
    "        for child in d:\n",
    "            if child.tag in headers:\n",
    "                if child.tag == 'sponsors':\n",
    "                    sponsors = []\n",
    "                    for sponsor in child:\n",
    "                        sponsors.append(child.findtext(f'.//sponsor'))\n",
    "                    row['sponsors']=\";\".join(sponsors)\n",
    "                else:\n",
    "                    row[child.tag]=d.findtext(f'.//{child.tag}')\n",
    "        csv_writer.writerow(row)\n",
    "    "
   ]
  },
  {
   "cell_type": "code",
   "execution_count": 33,
   "metadata": {},
   "outputs": [
    {
     "name": "stderr",
     "output_type": "stream",
     "text": [
      "C:\\Users\\mohan\\AppData\\Local\\Temp\\ipykernel_10528\\3980071201.py:2: DtypeWarning: Columns (0,1,2,3,9) have mixed types. Specify dtype option on import or set low_memory=False.\n",
      "  df = pd.read_csv('converted2.csv')\n"
     ]
    }
   ],
   "source": [
    "import pandas as pd\n",
    "df = pd.read_csv('converted2.csv')"
   ]
  },
  {
   "cell_type": "code",
   "execution_count": 47,
   "metadata": {},
   "outputs": [
    {
     "data": {
      "text/html": [
       "<div>\n",
       "<style scoped>\n",
       "    .dataframe tbody tr th:only-of-type {\n",
       "        vertical-align: middle;\n",
       "    }\n",
       "\n",
       "    .dataframe tbody tr th {\n",
       "        vertical-align: top;\n",
       "    }\n",
       "\n",
       "    .dataframe thead th {\n",
       "        text-align: right;\n",
       "    }\n",
       "</style>\n",
       "<table border=\"1\" class=\"dataframe\">\n",
       "  <thead>\n",
       "    <tr style=\"text-align: right;\">\n",
       "      <th></th>\n",
       "      <th>award_number</th>\n",
       "      <th>program_title</th>\n",
       "      <th>element_code</th>\n",
       "      <th>cfda</th>\n",
       "      <th>start_date</th>\n",
       "      <th>amount_awarded</th>\n",
       "      <th>award_title</th>\n",
       "      <th>award_url</th>\n",
       "      <th>url</th>\n",
       "      <th>fiscal_year</th>\n",
       "      <th>...</th>\n",
       "      <th>ext_award_id</th>\n",
       "      <th>modified_date</th>\n",
       "      <th>abstract</th>\n",
       "      <th>principal_investigators</th>\n",
       "      <th>currency</th>\n",
       "      <th>source_url</th>\n",
       "      <th>sponsors</th>\n",
       "      <th>all_types</th>\n",
       "      <th>all_categories</th>\n",
       "      <th>end_date</th>\n",
       "    </tr>\n",
       "  </thead>\n",
       "  <tbody>\n",
       "    <tr>\n",
       "      <th>49174</th>\n",
       "      <td>905014.0</td>\n",
       "      <td>NETWORK SCIENCE &amp; ENGINEERING</td>\n",
       "      <td>7794</td>\n",
       "      <td>NaN</td>\n",
       "      <td>2009-08-15</td>\n",
       "      <td>1001560.0</td>\n",
       "      <td>NetSE: Medium: A Data Mining Approach to Diagn...</td>\n",
       "      <td>https://www.nsf.gov/awardsearch/showAward?AWD_...</td>\n",
       "      <td>https://www.grantforward.com/award/detail?awar...</td>\n",
       "      <td>NaN</td>\n",
       "      <td>...</td>\n",
       "      <td>NSF 0905014</td>\n",
       "      <td>2017-06-12 11:13:48</td>\n",
       "      <td>ABSTRACT: (limited to 250 words): This award i...</td>\n",
       "      <td>Tarek Abdelzaher zaher@cs.uiuc.edu (Principal ...</td>\n",
       "      <td>USD</td>\n",
       "      <td>nsfaward.gov</td>\n",
       "      <td>Division of Computing and Communication Founda...</td>\n",
       "      <td>Research Project; Equipment/Facility/Organization</td>\n",
       "      <td>Mathematics; Computation; Science; Technology;...</td>\n",
       "      <td>2013-07-31</td>\n",
       "    </tr>\n",
       "    <tr>\n",
       "      <th>49177</th>\n",
       "      <td>965918.0</td>\n",
       "      <td>IGERT FULL PROPOSALS</td>\n",
       "      <td>1335</td>\n",
       "      <td>NaN</td>\n",
       "      <td>2010-08-01</td>\n",
       "      <td>3201080.0</td>\n",
       "      <td>NSF IGERT: Training the Next Generation of Res...</td>\n",
       "      <td>https://www.nsf.gov/awardsearch/showAward?AWD_...</td>\n",
       "      <td>https://www.grantforward.com/award/detail?awar...</td>\n",
       "      <td>NaN</td>\n",
       "      <td>...</td>\n",
       "      <td>NSF 0965918</td>\n",
       "      <td>2017-06-12 11:13:55</td>\n",
       "      <td>This goal of this Integrative Graduate Educati...</td>\n",
       "      <td>Rashid Bashir rbashir@illinois.edu (Principal ...</td>\n",
       "      <td>USD</td>\n",
       "      <td>nsfaward.gov</td>\n",
       "      <td>Division Of Graduate Education (DGE)</td>\n",
       "      <td>Training/Course</td>\n",
       "      <td>Education; Educational Systems and Institution...</td>\n",
       "      <td>2016-07-31</td>\n",
       "    </tr>\n",
       "  </tbody>\n",
       "</table>\n",
       "<p>2 rows × 22 columns</p>\n",
       "</div>"
      ],
      "text/plain": [
       "      award_number                  program_title element_code cfda  \\\n",
       "49174     905014.0  NETWORK SCIENCE & ENGINEERING         7794  NaN   \n",
       "49177     965918.0           IGERT FULL PROPOSALS         1335  NaN   \n",
       "\n",
       "       start_date  amount_awarded  \\\n",
       "49174  2009-08-15       1001560.0   \n",
       "49177  2010-08-01       3201080.0   \n",
       "\n",
       "                                             award_title  \\\n",
       "49174  NetSE: Medium: A Data Mining Approach to Diagn...   \n",
       "49177  NSF IGERT: Training the Next Generation of Res...   \n",
       "\n",
       "                                               award_url  \\\n",
       "49174  https://www.nsf.gov/awardsearch/showAward?AWD_...   \n",
       "49177  https://www.nsf.gov/awardsearch/showAward?AWD_...   \n",
       "\n",
       "                                                     url fiscal_year  ...  \\\n",
       "49174  https://www.grantforward.com/award/detail?awar...         NaN  ...   \n",
       "49177  https://www.grantforward.com/award/detail?awar...         NaN  ...   \n",
       "\n",
       "      ext_award_id        modified_date  \\\n",
       "49174  NSF 0905014  2017-06-12 11:13:48   \n",
       "49177  NSF 0965918  2017-06-12 11:13:55   \n",
       "\n",
       "                                                abstract  \\\n",
       "49174  ABSTRACT: (limited to 250 words): This award i...   \n",
       "49177  This goal of this Integrative Graduate Educati...   \n",
       "\n",
       "                                 principal_investigators currency  \\\n",
       "49174  Tarek Abdelzaher zaher@cs.uiuc.edu (Principal ...      USD   \n",
       "49177  Rashid Bashir rbashir@illinois.edu (Principal ...      USD   \n",
       "\n",
       "         source_url                                           sponsors  \\\n",
       "49174  nsfaward.gov  Division of Computing and Communication Founda...   \n",
       "49177  nsfaward.gov               Division Of Graduate Education (DGE)   \n",
       "\n",
       "                                               all_types  \\\n",
       "49174  Research Project; Equipment/Facility/Organization   \n",
       "49177                                    Training/Course   \n",
       "\n",
       "                                          all_categories    end_date  \n",
       "49174  Mathematics; Computation; Science; Technology;...  2013-07-31  \n",
       "49177  Education; Educational Systems and Institution...  2016-07-31  \n",
       "\n",
       "[2 rows x 22 columns]"
      ]
     },
     "execution_count": 47,
     "metadata": {},
     "output_type": "execute_result"
    }
   ],
   "source": [
    "# i.How many awards and total amounts were awarded to the University of Illinois at Urbana-Champaign\n",
    "# during the period of 2010 - 2020?\n",
    "\n",
    "uiuc_data = df[df.recipients.isin(['University of Illinois at Urbana-Champaign'])]\n",
    "uiuc_data.head(2)"
   ]
  },
  {
   "cell_type": "code",
   "execution_count": 65,
   "metadata": {},
   "outputs": [
    {
     "name": "stdout",
     "output_type": "stream",
     "text": [
      "Count of awards to the University of Illinois at Urbana-Champaign during the period of 2010-2020: 1946\n"
     ]
    }
   ],
   "source": [
    "uiuc_2010s = uiuc_data[(pd.to_datetime(uiuc_data.start_date)>=pd.to_datetime(\"2010-01-01\")) & \n",
    "                       (pd.to_datetime(uiuc_data.start_date)<=pd.to_datetime(\"2020-12-31\"))]\n",
    "uiuc_nawards = len(uiuc_2010s)\n",
    "print(f\"Count of awards to the University of Illinois at Urbana-Champaign during the period of 2010-2020: {uiuc_nawards}\")\n"
   ]
  },
  {
   "cell_type": "code",
   "execution_count": 67,
   "metadata": {},
   "outputs": [
    {
     "name": "stdout",
     "output_type": "stream",
     "text": [
      "Total amount(USD) of awards to the University of Illinois at Urbana-Champaign during the period of 2010-2020: $1,148,409,140.00\n"
     ]
    }
   ],
   "source": [
    "from forex_python.converter import CurrencyRates\n",
    "import locale\n",
    "\n",
    "def format_currency(amount, currency='USD'):\n",
    "    locale.setlocale(locale.LC_ALL, '')\n",
    "    return locale.currency(amount, symbol=True, grouping=True)\n",
    "\n",
    "def amount_calc(row):\n",
    "    if row.currency == \"USD\":\n",
    "        return row.amount_awarded\n",
    "    elif row.currency is not None:\n",
    "        return CurrencyRates().convert(row.currency,'USD',row.amount_awarded)\n",
    "    else:\n",
    "        return 0\n",
    "    \n",
    "uiuc_2010s.loc[:,'USD_amount_awarded'] = uiuc_2010s.apply(amount_calc,axis=1)\n",
    "uiuc_sum_awards = uiuc_2010s.USD_amount_awarded.sum()\n",
    "print(f\"Total amount(USD) of awards to the University of Illinois at Urbana-Champaign during the period of 2010-2020: {format_currency(uiuc_sum_awards)}\")"
   ]
  },
  {
   "cell_type": "code",
   "execution_count": 69,
   "metadata": {},
   "outputs": [
    {
     "name": "stdout",
     "output_type": "stream",
     "text": [
      "Count of awards to the University of Michigan during the period of 2010-2020: 33\n",
      "Total amount(USD) of awards to the University of Michigan during the period of 2010-2020: $40,856,795.00\n"
     ]
    },
    {
     "name": "stderr",
     "output_type": "stream",
     "text": [
      "C:\\Users\\mohan\\AppData\\Local\\Temp\\ipykernel_10528\\1508495474.py:6: SettingWithCopyWarning: \n",
      "A value is trying to be set on a copy of a slice from a DataFrame.\n",
      "Try using .loc[row_indexer,col_indexer] = value instead\n",
      "\n",
      "See the caveats in the documentation: https://pandas.pydata.org/pandas-docs/stable/user_guide/indexing.html#returning-a-view-versus-a-copy\n",
      "  umich_2010s.loc[:,'USD_amount_awarded'] = umich_2010s.apply(amount_calc,axis=1)\n"
     ]
    }
   ],
   "source": [
    "umich_data = df[df.recipients.isin(['University of Michigan'])]\n",
    "umich_2010s = umich_data[(pd.to_datetime(umich_data.start_date)>=pd.to_datetime(\"2010-01-01\")) & \n",
    "                       (pd.to_datetime(umich_data.start_date)<=pd.to_datetime(\"2020-12-31\"))]\n",
    "umich_nawards = len(umich_2010s)\n",
    "print(f\"Count of awards to the University of Michigan during the period of 2010-2020: {umich_nawards}\")\n",
    "umich_2010s.loc[:,'USD_amount_awarded'] = umich_2010s.apply(amount_calc,axis=1)\n",
    "umich_sum_awards = umich_2010s.USD_amount_awarded.sum()\n",
    "print(f\"Total amount(USD) of awards to the University of Michigan during the period of 2010-2020: {format_currency(umich_sum_awards)}\")\n"
   ]
  },
  {
   "cell_type": "code",
   "execution_count": 77,
   "metadata": {},
   "outputs": [
    {
     "name": "stdout",
     "output_type": "stream",
     "text": [
      "Although UMich received very less awards,\n",
      " its amount per award ($1,238,084.70) is higher than UIUC's ($590,138.30)\n"
     ]
    }
   ],
   "source": [
    "print(f'Although UMich received very less awards,\\n its amount per award ({format_currency(umich_sum_awards/umich_nawards)}) is higher than UIUC\\'s ({format_currency(uiuc_sum_awards/uiuc_nawards)})')"
   ]
  }
 ],
 "metadata": {
  "kernelspec": {
   "display_name": "Python 3",
   "language": "python",
   "name": "python3"
  },
  "language_info": {
   "codemirror_mode": {
    "name": "ipython",
    "version": 3
   },
   "file_extension": ".py",
   "mimetype": "text/x-python",
   "name": "python",
   "nbconvert_exporter": "python",
   "pygments_lexer": "ipython3",
   "version": "3.12.3"
  }
 },
 "nbformat": 4,
 "nbformat_minor": 2
}
